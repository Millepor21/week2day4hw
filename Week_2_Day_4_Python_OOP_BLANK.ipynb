{
 "cells": [
  {
   "cell_type": "markdown",
   "metadata": {},
   "source": [
    "# Object-Oriented-Programming (OOP)"
   ]
  },
  {
   "cell_type": "markdown",
   "metadata": {},
   "source": [
    "## Tasks Today:\n",
    "\n",
    "   \n",
    "\n",
    "1) <b>Creating a Class (Initializing/Declaring)</b> <br>\n",
    "2) <b>Using a Class (Instantiating)</b> <br>\n",
    " &nbsp;&nbsp;&nbsp;&nbsp; a) Creating One Instance <br>\n",
    " &nbsp;&nbsp;&nbsp;&nbsp; b) Creating Multiple Instances <br>\n",
    " &nbsp;&nbsp;&nbsp;&nbsp; c) In-Class Exercise #1 - Create a Class 'Car' and instantiate three different makes of cars <br>\n",
    "3) <b>The \\__init\\__() Method</b> <br>\n",
    " &nbsp;&nbsp;&nbsp;&nbsp; a) The 'self' Attribute <br>\n",
    "4) <b>Class Attributes</b> <br>\n",
    " &nbsp;&nbsp;&nbsp;&nbsp; a) Initializing Attributes <br>\n",
    " &nbsp;&nbsp;&nbsp;&nbsp; b) Setting an Attribute Outside of the \\__init\\__() Method <br>\n",
    " &nbsp;&nbsp;&nbsp;&nbsp; c) Setting Defaults for Attributes <br>\n",
    " &nbsp;&nbsp;&nbsp;&nbsp; d) Accessing Class Attributes <br>\n",
    " &nbsp;&nbsp;&nbsp;&nbsp; e) Changing Class Attributes <br>\n",
    " &nbsp;&nbsp;&nbsp;&nbsp; f) In-Class Exercise #2 - Add a color and wheels attribute to your 'Car' class <br>\n",
    "5) <b>Class Methods</b> <br>\n",
    " &nbsp;&nbsp;&nbsp;&nbsp; a) Creating <br>\n",
    " &nbsp;&nbsp;&nbsp;&nbsp; b) Calling <br>\n",
    " &nbsp;&nbsp;&nbsp;&nbsp; c) Modifying an Attribute's Value Through a Method <br>\n",
    " &nbsp;&nbsp;&nbsp;&nbsp; d) Incrementing an Attribute's Value Through a Method <br>\n",
    " &nbsp;&nbsp;&nbsp;&nbsp; e) In-Class Exercise #3 - Add a method that prints the cars color and wheel number, then call them <br>\n",
    "6) <b>Inheritance</b> <br>\n",
    " &nbsp;&nbsp;&nbsp;&nbsp; a) Syntax for Inheriting from a Parent Class <br>\n",
    " &nbsp;&nbsp;&nbsp;&nbsp; b) The \\__init\\__() Method for a Child Class (super()) <br>\n",
    " &nbsp;&nbsp;&nbsp;&nbsp; c) Defining Attributes and Methods for the Child Class <br>\n",
    " &nbsp;&nbsp;&nbsp;&nbsp; d) Method Overriding <br>\n",
    " &nbsp;&nbsp;&nbsp;&nbsp; e) In-Class Exercise #4 - Create a class 'Ford' that inherits from 'Car' class and initialize it as a Blue Ford Explorer with 4 wheels using the super() method <br>\n",
    "7) <b>Classes as Attributes</b> <br>\n",
    "8) <b>Exercises</b> <br>\n",
    " &nbsp;&nbsp;&nbsp;&nbsp; a) Exercise #1 - Turn the shopping cart program from yesterday into an object-oriented program <br>"
   ]
  },
  {
   "cell_type": "markdown",
   "metadata": {},
   "source": [
    "## Creating a Class (Initializing/Declaring)\n",
    "<p>When creating a class, function, or even a variable you are initializing that object. Initializing and Declaring occur at the same time in Python, whereas in lower level languages you have to declare an object before initializing it. This is the first step in the process of using a class.</p>"
   ]
  },
  {
   "cell_type": "code",
   "execution_count": 2,
   "metadata": {},
   "outputs": [],
   "source": [
    "class Car: #valid w or w/o ()\n",
    "    wheels = 4\n",
    "    color = 'blue'\n",
    "    \n",
    "\n",
    "# PascalCasing = proper case format for classes"
   ]
  },
  {
   "cell_type": "code",
   "execution_count": 3,
   "metadata": {},
   "outputs": [],
   "source": [
    "class Agent:\n",
    "    name = 'Smith'\n",
    "    glasses = 'black'"
   ]
  },
  {
   "cell_type": "markdown",
   "metadata": {},
   "source": [
    "## Using a Class (Instantiating)\n",
    "<p>The process of creating a class is called <i>Instantiating</i>. Each time you create a variable of that type of class, it is referred to as an <i>Instance</i> of that class. This is the second step in the process of using a class.</p>"
   ]
  },
  {
   "cell_type": "markdown",
   "metadata": {},
   "source": [
    "##### Creating One Instance"
   ]
  },
  {
   "cell_type": "code",
   "execution_count": 4,
   "metadata": {},
   "outputs": [
    {
     "name": "stdout",
     "output_type": "stream",
     "text": [
      "<__main__.Car object at 0x000001C1E4B09F50>\n"
     ]
    }
   ],
   "source": [
    "ford = Car()\n",
    "\n",
    "print(ford)"
   ]
  },
  {
   "cell_type": "code",
   "execution_count": 5,
   "metadata": {},
   "outputs": [
    {
     "name": "stdout",
     "output_type": "stream",
     "text": [
      "<__main__.Agent object at 0x000001C1E4B9D190>\n"
     ]
    }
   ],
   "source": [
    "agent = Agent()\n",
    "\n",
    "print(agent)"
   ]
  },
  {
   "cell_type": "markdown",
   "metadata": {},
   "source": [
    "##### Creating Multiple Instances"
   ]
  },
  {
   "cell_type": "code",
   "execution_count": 10,
   "metadata": {},
   "outputs": [
    {
     "name": "stdout",
     "output_type": "stream",
     "text": [
      "4\n",
      "4\n",
      "<__main__.Car object at 0x000001C1E50ECC10> <__main__.Car object at 0x000001C1E5855290> <__main__.Car object at 0x000001C1E58551D0>\n"
     ]
    }
   ],
   "source": [
    "chevy = Car()\n",
    "toyota = Car()\n",
    "honda = Car()\n",
    "\n",
    "print(chevy.wheels)\n",
    "print(honda.wheels)\n",
    "print(chevy,honda,toyota)\n",
    "#  syntax  <instance>.<property>"
   ]
  },
  {
   "cell_type": "code",
   "execution_count": 7,
   "metadata": {},
   "outputs": [
    {
     "data": {
      "text/plain": [
       "'Smith'"
      ]
     },
     "execution_count": 7,
     "metadata": {},
     "output_type": "execute_result"
    }
   ],
   "source": [
    "agent1 = Agent()\n",
    "agent2 = Agent()\n",
    "\n",
    "agent1.name\n",
    "agent2.glasses"
   ]
  },
  {
   "cell_type": "markdown",
   "metadata": {},
   "source": [
    "##### In-Class Exercise #1 - Create a Class 'Vehicle' and Instantiate three different makes of cars"
   ]
  },
  {
   "cell_type": "code",
   "execution_count": 9,
   "metadata": {},
   "outputs": [],
   "source": [
    "class Vehicle:\n",
    "    wheels = 4\n",
    "    color = \"red\"\n",
    "\n",
    "lamborgini_huracan = Vehicle()\n",
    "miata_na = Vehicle()\n",
    "supra_mk4 = Vehicle()"
   ]
  },
  {
   "cell_type": "markdown",
   "metadata": {},
   "source": [
    "## The \\__init\\__() Method <br>\n",
    "<p>This method is used in almost every created class, and called only once upon the creation of the class instance. This method will initialize all variables needed for the object.</p>"
   ]
  },
  {
   "cell_type": "code",
   "execution_count": 24,
   "metadata": {},
   "outputs": [
    {
     "name": "stdout",
     "output_type": "stream",
     "text": [
      "honda\n",
      "chevy\n",
      "<Car: honda fit 2008> <Car: chevy impala 2008>\n"
     ]
    }
   ],
   "source": [
    "class Car():\n",
    "    wheels = 4\n",
    "    \n",
    "    def __init__(self, make, model, year, color):\n",
    "        self.model = model\n",
    "        self.year = year\n",
    "        self.color = color\n",
    "        self.make = make\n",
    "        \n",
    "    def __repr__(self):\n",
    "        return f'<Car: {self.make} {self.model} {self.year}>'\n",
    "        \n",
    "car5 = Car('honda','fit',2008,'white')\n",
    "car6 = Car('chevy','impala',2008,'white')\n",
    "\n",
    "print(car5.make)\n",
    "print(car6.make)\n",
    "\n",
    "print(car5,car6)"
   ]
  },
  {
   "cell_type": "markdown",
   "metadata": {},
   "source": [
    "##### The 'self' Attribute <br>\n",
    "<p>This attribute is required to keep track of specific instance's attributes. Without the self attribute, the program would not know how to reference or keep track of an instance's attributes.</p>"
   ]
  },
  {
   "cell_type": "code",
   "execution_count": null,
   "metadata": {},
   "outputs": [],
   "source": [
    "# see above"
   ]
  },
  {
   "cell_type": "markdown",
   "metadata": {},
   "source": [
    "## Class Attributes <br>\n",
    "<p>While variables are inside of a class, they are referred to as attributes and not variables. When someone says 'attribute' you know they're speaking about a class. Attributes can be initialized through the init method, or outside of it.</p>"
   ]
  },
  {
   "cell_type": "markdown",
   "metadata": {},
   "source": [
    "##### Initializing Attributes"
   ]
  },
  {
   "cell_type": "code",
   "execution_count": null,
   "metadata": {},
   "outputs": [],
   "source": [
    "# see above"
   ]
  },
  {
   "cell_type": "markdown",
   "metadata": {},
   "source": [
    "##### Accessing Class Attributes"
   ]
  },
  {
   "cell_type": "code",
   "execution_count": 16,
   "metadata": {
    "scrolled": true
   },
   "outputs": [
    {
     "data": {
      "text/plain": [
       "2008"
      ]
     },
     "execution_count": 16,
     "metadata": {},
     "output_type": "execute_result"
    }
   ],
   "source": [
    "# See Above\n",
    "\n",
    "car5.year"
   ]
  },
  {
   "cell_type": "markdown",
   "metadata": {},
   "source": [
    "##### Setting Defaults for Attributes"
   ]
  },
  {
   "cell_type": "code",
   "execution_count": 20,
   "metadata": {},
   "outputs": [
    {
     "name": "stdout",
     "output_type": "stream",
     "text": [
      "<Vehicle: Ford F-3500 2022>\n",
      "Blue  color\n",
      "<Vehicle: Ford F-3500 2022> 6\n",
      "<Vehicle: tesla x 2023> 4\n"
     ]
    }
   ],
   "source": [
    "class Vehicle():\n",
    "    \n",
    "    def __init__(self, make, model, year, color, wheels=4):\n",
    "        self.model = model\n",
    "        self.year = year\n",
    "        self.color = color\n",
    "        self.make = make\n",
    "        self.wheels = wheels\n",
    "        \n",
    "    def __repr__(self):\n",
    "        return f'<Vehicle: {self.make} {self.model} {self.year}>'\n",
    "    \n",
    "truck = Vehicle('Ford', 'F-3500', 2022, 'Blue', 6)\n",
    "car = Vehicle('tesla','x',2023,'red')\n",
    "\n",
    "print(truck)\n",
    "\n",
    "print(truck.color, ' color')\n",
    "\n",
    "print(truck, truck.wheels)\n",
    "\n",
    "print(car, car.wheels)"
   ]
  },
  {
   "cell_type": "markdown",
   "metadata": {},
   "source": [
    "##### Changing Class Attributes <br>\n",
    "<p>Keep in mind there are global class attributes and then there are attributes only available to each class instance which won't effect other classes.</p>"
   ]
  },
  {
   "cell_type": "code",
   "execution_count": 25,
   "metadata": {},
   "outputs": [
    {
     "name": "stdout",
     "output_type": "stream",
     "text": [
      "<Car: tesla x 2023> <Car: honda fit 2008>\n",
      "red before paint job\n",
      "egg shell after paint job\n",
      "3\n",
      "3\n"
     ]
    }
   ],
   "source": [
    "car = Car('tesla','x',2023,'red')\n",
    "car2 = Car('honda','fit',2008,'white')\n",
    "\n",
    "print(car,car2)\n",
    "print(car.color, 'before paint job')\n",
    "\n",
    "car.color = 'egg shell'\n",
    "\n",
    "print(car.color, 'after paint job')\n",
    "\n",
    "car2.color\n",
    "\n",
    "Car.wheels = 3\n",
    "\n",
    "print(car.wheels)\n",
    "\n",
    "print(car2.wheels)"
   ]
  },
  {
   "cell_type": "code",
   "execution_count": 27,
   "metadata": {},
   "outputs": [
    {
     "data": {
      "text/plain": [
       "3"
      ]
     },
     "execution_count": 27,
     "metadata": {},
     "output_type": "execute_result"
    }
   ],
   "source": [
    "Car.wheels\n"
   ]
  },
  {
   "cell_type": "markdown",
   "metadata": {},
   "source": [
    "##### In-Class Exercise #2 - Add a doors and seats attribute to your 'Vehicle' class then print out two different instances with different doors and seats"
   ]
  },
  {
   "cell_type": "code",
   "execution_count": 30,
   "metadata": {},
   "outputs": [
    {
     "name": "stdout",
     "output_type": "stream",
     "text": [
      "<Vehicle: lamborgini urus has 4 doors and 5 seats>\n",
      "<Vehicle: mazda miata na has 2 doors and 2 seats>\n"
     ]
    }
   ],
   "source": [
    "class Vehicle:\n",
    "    \n",
    "    def __init__(self, make, model, doors, seats, wheels=4, color='red'):\n",
    "        self.wheels = wheels\n",
    "        self.color = color\n",
    "        self.doors = doors\n",
    "        self.seats = seats\n",
    "        self.make = make\n",
    "        self.model = model\n",
    "    def __repr__(self):\n",
    "        return f'<Vehicle: {self.make} {self.model} has {self.doors} doors and {self.seats} seats>'\n",
    "\n",
    "lamborgini_urus = Vehicle('lamborgini','urus',4,5)\n",
    "miata_na = Vehicle('mazda','miata na',2,2)\n",
    "supra_mk4 = Vehicle('toyota','supra mk4',2,2)\n",
    "\n",
    "print(lamborgini_urus)\n",
    "print(miata_na)"
   ]
  },
  {
   "cell_type": "markdown",
   "metadata": {},
   "source": [
    "## Class Methods <br>\n",
    "<p>While inside of a class, functions are referred to as 'methods'. If you hear someone mention methods, they're speaking about classes. Methods are essentially functions, but only callable on the instances of a class.</p>"
   ]
  },
  {
   "cell_type": "markdown",
   "metadata": {},
   "source": [
    "##### Creating"
   ]
  },
  {
   "cell_type": "code",
   "execution_count": 35,
   "metadata": {},
   "outputs": [
    {
     "name": "stdout",
     "output_type": "stream",
     "text": [
      "red\n",
      "<Vehicle: hot pink honda civic has 4 doors and 5 seats>\n"
     ]
    }
   ],
   "source": [
    "astring = 'Hello world'\n",
    "\n",
    "astring.lower()\n",
    "\n",
    "class Vehicle:\n",
    "    \n",
    "    def __init__(self, make, model, doors, seats, wheels=4, color='red'):\n",
    "        self.wheels = wheels\n",
    "        self.color = color\n",
    "        self.doors = doors\n",
    "        self.seats = seats\n",
    "        self.make = make\n",
    "        self.model = model\n",
    "    def __repr__(self):\n",
    "        return f'<Vehicle: {self.color} {self.make} {self.model} has {self.doors} doors and {self.seats} seats>'\n",
    "    \n",
    "    def update_color(self, color):\n",
    "        self.color = color\n",
    "        print(self)\n",
    "        \n",
    "vehicle = Vehicle('honda','civic',4,5)\n",
    "\n",
    "print(vehicle.color)\n",
    "\n",
    "vehicle.update_color('hot pink')"
   ]
  },
  {
   "cell_type": "code",
   "execution_count": 69,
   "metadata": {},
   "outputs": [
    {
     "name": "stdout",
     "output_type": "stream",
     "text": [
      "[Red] pill to go down the rabbit hole or [Blue] pill to stay where you are?: red\n",
      "you now know boxing wrestling kung fu taekwondo akido drunken fist\n",
      "Phone Ringing\n",
      "0\n",
      "[Red] pill to go down the rabbit hole or [Blue] pill to stay where you are?: red\n",
      "Agents attacking are you ready to enter the Matrix?: [y]es/[n]o y\n",
      "1\n",
      "[Red] pill to go down the rabbit hole or [Blue] pill to stay where you are?: red\n",
      "Phone Ringing\n",
      "0\n",
      "[Red] pill to go down the rabbit hole or [Blue] pill to stay where you are?: red\n",
      "Agents attacking are you ready to enter the Matrix?: [y]es/[n]o y\n",
      "1\n",
      "[Red] pill to go down the rabbit hole or [Blue] pill to stay where you are?: blue\n"
     ]
    }
   ],
   "source": [
    "class MatrixCharacter:\n",
    "    \n",
    "    '''\n",
    "    make a decision on what pill to take\n",
    "    upon red pill wake up\n",
    "    recieve training\n",
    "    enter matrix\n",
    "    exit matrix\n",
    "    do while\n",
    "    '''\n",
    "    \n",
    "    def __init__(self, name, fighting_styles= []):\n",
    "        self.name = name\n",
    "        self.fighting_styles = fighting_styles\n",
    "        self.awake = False\n",
    "        self.trained = False\n",
    "        self.location = 1\n",
    "        \n",
    "    def driver(self):\n",
    "        self.pill_decision()\n",
    "        while self.awake:\n",
    "            if not self.trained:\n",
    "                self.recieve_training()\n",
    "            while True:\n",
    "                user_training _ input(\"Do you need additional training?: [y]es/[n]o \")\n",
    "                if user_training == 'y':\n",
    "                    self.additional_training(input('What fighting style do you want to learn?: '))\n",
    "                    \n",
    "            self.update_location()\n",
    "            self.pill_decision()\n",
    "    def pill_decision(self):\n",
    "        pill = input('[Red] pill to go down the rabbit hole or [Blue] pill to stay where you are?: ').lower()\n",
    "        if pill == 'red':\n",
    "            self.awake = True\n",
    "        else:\n",
    "            self.awake = False\n",
    "    \n",
    "    def recieve_training(self):\n",
    "        self.fighting_styles += ['kung fu', 'taekwondo','akido','drunken fist']\n",
    "        self.trained = True\n",
    "        self.display_fighting_style()\n",
    "        \n",
    "    def additional_training(self, fighting_style):\n",
    "        self.fighting_styles.append(fighting_style)\n",
    "        self.display_fighting_style()\n",
    "        \n",
    "    def display_fighting_style():\n",
    "        print(f'you now know {\" \".join(self.fighting_styles)}')\n",
    "        \n",
    "    def update_location(self):\n",
    "#         self.location = 1 if not self.location else 0\n",
    "        if not self.location:\n",
    "            user_ready = input('Agents attacking are you ready to enter the Matrix?: [y]es/[n]o ').lower()\n",
    "            if user_ready == 'y':\n",
    "                self.location = 1\n",
    "        else:\n",
    "            print('Phone Ringing')\n",
    "            self.location = 0\n",
    "        print(self.location)\n",
    "    \n",
    "matrix_character = MatrixCharacter('neo',['boxing','wrestling'])\n",
    "\n",
    "# matrix_character.recieve_training()\n",
    "matrix_character.driver()\n",
    "# matrix_character.update_location()\n",
    "# matrix_character.pill_decision()\n",
    "\n",
    "# print(matrix_character.awake)"
   ]
  },
  {
   "cell_type": "code",
   "execution_count": 60,
   "metadata": {},
   "outputs": [
    {
     "data": {
      "text/plain": [
       "'a b foo'"
      ]
     },
     "execution_count": 60,
     "metadata": {},
     "output_type": "execute_result"
    }
   ],
   "source": [
    "[1,2,3] + [3,2,1]\n",
    "\n",
    "' '.join(['a','b','foo'])  "
   ]
  },
  {
   "cell_type": "markdown",
   "metadata": {},
   "source": [
    "##### Calling"
   ]
  },
  {
   "cell_type": "code",
   "execution_count": null,
   "metadata": {},
   "outputs": [],
   "source": [
    "# See Above"
   ]
  },
  {
   "cell_type": "markdown",
   "metadata": {},
   "source": [
    "##### Modifying an Attribute's Value Through a Method"
   ]
  },
  {
   "cell_type": "code",
   "execution_count": null,
   "metadata": {},
   "outputs": [],
   "source": []
  },
  {
   "cell_type": "markdown",
   "metadata": {},
   "source": [
    "##### Incrementing an Attribute's Value Through a Method"
   ]
  },
  {
   "cell_type": "code",
   "execution_count": null,
   "metadata": {},
   "outputs": [],
   "source": []
  },
  {
   "cell_type": "markdown",
   "metadata": {},
   "source": [
    "##### In-Class Exercise #3 - Add a method that takes in three parameters of year, doors and seats and prints out a formatted print statement with make, model, year, seats, and doors"
   ]
  },
  {
   "cell_type": "code",
   "execution_count": 90,
   "metadata": {},
   "outputs": [
    {
     "name": "stdout",
     "output_type": "stream",
     "text": [
      "Please type your car's year, number of doors, and number of seats separated by a \", \": Ex. 2019, 4, 52023, 4, 7\n",
      "This car is from 2023 and is a Lamborghini Urus; it has 4 doors and 7 seats\n"
     ]
    }
   ],
   "source": [
    "# Create class with 2 paramters inside of the __init__ which are make and model\n",
    "\n",
    "# Inside of the Car class create a method that has 4 parameter in total (self,year,door,seats)\n",
    "\n",
    "# Output: This car is from 2019 and is a Ford Expolorer and has 4 doors and 5 seats\n",
    "\n",
    "class Car:\n",
    "    \n",
    "    def __init__(self, make, model):\n",
    "        self.make = make\n",
    "        self.model = model\n",
    "        \n",
    "    def description(self, year, door, seats):\n",
    "        self.year = year\n",
    "        self.door = door\n",
    "        self.seats = seats\n",
    "        print(f'This car is from {self.year} and is a {self.make.title()} {self.model.title()}; it has {self.door} doors and {self.seats} seats')\n",
    "        \n",
    "    def driver(self):\n",
    "        year,door,seats = input('Please type your car\\'s year, number of doors, and number of seats separated by a \", \": Ex. 2019, 4, 5').split(\", \")\n",
    "        self.description(year,door,seats)\n",
    "h_a = Car('honda', 'accord')\n",
    "m_m = Car('mazda', 'miata na')\n",
    "l_u = Car('lamborghini', 'urus')\n"
   ]
  },
  {
   "cell_type": "markdown",
   "metadata": {},
   "source": [
    "## Inheritance <br>\n",
    "<p>You can create a child-parent relationship between two classes by using inheritance. What this allows you to do is have overriding methods, but also inherit traits from the parent class. Think of it as an actual parent and child, the child will inherit the parent's genes, as will the classes in OOP</p>"
   ]
  },
  {
   "cell_type": "markdown",
   "metadata": {},
   "source": [
    "##### Syntax for Inheriting from a Parent Class"
   ]
  },
  {
   "cell_type": "code",
   "execution_count": 104,
   "metadata": {},
   "outputs": [
    {
     "name": "stdout",
     "output_type": "stream",
     "text": [
      "Name: legolas Class: ranger\n"
     ]
    }
   ],
   "source": [
    "class FantasyCharacter:\n",
    "    speed = 20\n",
    "    \n",
    "    def __init__(self,name,_class):\n",
    "        self.name = name\n",
    "        self._class = _class\n",
    "        \n",
    "    def display_character(self):\n",
    "        print(f'Name: {self.name} Class: {self._class}')\n",
    "        \n",
    "class FantasyHuman(FantasyCharacter):\n",
    "    \n",
    "    def display_human_character(self):\n",
    "        print(f'Human Name: {self.name} Class: {self._class}')\n",
    "        \n",
    "fantasy_human = FantasyHuman('legolas', 'ranger')\n",
    "\n",
    "fantasy_human.display_character()"
   ]
  },
  {
   "cell_type": "markdown",
   "metadata": {},
   "source": [
    "##### The \\__init\\__() Method for a Child Class - super()"
   ]
  },
  {
   "cell_type": "code",
   "execution_count": 107,
   "metadata": {
    "scrolled": true
   },
   "outputs": [
    {
     "name": "stdout",
     "output_type": "stream",
     "text": [
      "frodo\n",
      "{'str': 10, 'con': 16}\n",
      "small\n",
      "20\n",
      "I am a ring bearer\n"
     ]
    }
   ],
   "source": [
    "class Hobbit(FantasyCharacter):\n",
    "    size = 'small'\n",
    "    \n",
    "    def __init__(self,name,_class,stats,height):\n",
    "        super().__init__(name,_class)\n",
    "        self.stats = stats\n",
    "        self.height = height\n",
    "        \n",
    "    def display_my_class(self):\n",
    "        print(f'I am a {self._class}')\n",
    "        \n",
    "frodo = Hobbit('frodo','ring bearer',{'str':10,'con':16},'4ft5')\n",
    "\n",
    "print(frodo.name)\n",
    "print(frodo.stats)\n",
    "print(frodo.size)\n",
    "print(frodo.speed)\n",
    "frodo.display_my_class()"
   ]
  },
  {
   "cell_type": "markdown",
   "metadata": {},
   "source": [
    "##### Defining Attributes and Methods for the Child Class"
   ]
  },
  {
   "cell_type": "code",
   "execution_count": 106,
   "metadata": {},
   "outputs": [
    {
     "name": "stdout",
     "output_type": "stream",
     "text": [
      "Name: frodo Class: ring bearer\n"
     ]
    }
   ],
   "source": [
    "# See Above\n",
    "frodo.display_character()"
   ]
  },
  {
   "cell_type": "markdown",
   "metadata": {},
   "source": [
    "##### Method Overriding"
   ]
  },
  {
   "cell_type": "code",
   "execution_count": 111,
   "metadata": {},
   "outputs": [
    {
     "name": "stdout",
     "output_type": "stream",
     "text": [
      "Stout Hobbit\n"
     ]
    }
   ],
   "source": [
    "class StoutHobbit(Hobbit):\n",
    "    \n",
    "    def __init__(self,name,_class,stats,height,weight):\n",
    "        super().__init__(name,_class,stats,height)\n",
    "        self.weight = weight\n",
    "    \n",
    "    def display_my_class(self):\n",
    "        print('Stout Hobbit')\n",
    "        \n",
    "sam = StoutHobbit('sam','paladin',{'str':10,'con':16},'4ft4',200)\n",
    "\n",
    "sam.speed\n",
    "\n",
    "sam.name\n",
    "\n",
    "sam.display_my_class()"
   ]
  },
  {
   "cell_type": "markdown",
   "metadata": {},
   "source": [
    "## Classes as Attributes <br>\n",
    "<p>Classes can also be used as attributes within another class. This is useful in situations where you need to keep variables locally stored, instead of globally stored.</p>"
   ]
  },
  {
   "cell_type": "code",
   "execution_count": 127,
   "metadata": {},
   "outputs": [
    {
     "data": {
      "text/plain": [
       "<Stats>"
      ]
     },
     "execution_count": 127,
     "metadata": {},
     "output_type": "execute_result"
    }
   ],
   "source": [
    "class Stats:\n",
    "    \n",
    "    def __init__(self,strength=10,dexterity=10,constitution=10,wisdom=10,intelligence=10,charisma=10):\n",
    "        self.strength = strength\n",
    "        self.dexterity = dexterity\n",
    "        self.constitution = constitution\n",
    "        self.wisdom = wisdom\n",
    "        self.intelligence = intelligence\n",
    "        self.charisma = charisma\n",
    "        \n",
    "    def determine_buff(self,attribute):\n",
    "        attribute = getattr(self, attribute)\n",
    "        return (attribute-10) // 2\n",
    "    \n",
    "    def __repr__(self):\n",
    "        return '<Stats>'\n",
    "stats = Stats()\n",
    "\n",
    "# result = input('what attribute you check?: ')\n",
    "\n",
    "stats.determine_buff('strength')\n",
    "\n",
    "sam = StoutHobbit('sam','paladin',Stats(),'4ft4',200)\n",
    "\n",
    "sam.stats"
   ]
  },
  {
   "cell_type": "markdown",
   "metadata": {},
   "source": [
    "# Exercises"
   ]
  },
  {
   "cell_type": "markdown",
   "metadata": {},
   "source": [
    "### Exercise 1 - Turn the shopping cart program from yesterday into an object-oriented program\n",
    "\n",
    "The comments in the cell below are there as a guide for thinking about the problem. However, if you feel a different way is best for you and your own thought process, please do what feels best for you by all means."
   ]
  },
  {
   "cell_type": "code",
   "execution_count": 20,
   "metadata": {},
   "outputs": [
    {
     "name": "stdout",
     "output_type": "stream",
     "text": [
      "Are you shopping? [y]es/[n]o: y\n",
      "What do you want to do? [a]dd, [d]elete, [s]how a\n",
      "What are we adding?: m\n",
      "What is price of item?: 2\n",
      "How many are you adding?: 1\n",
      "M\n",
      "quantity: 1\n",
      "price: 2.0\n",
      "Total Price: 2.0\n",
      "Are you shopping? [y]es/[n]o: y\n",
      "What do you want to do? [a]dd, [d]elete, [s]how d\n",
      "what item are you deleting: m\n",
      "Total Price: 0\n",
      "Are you shopping? [y]es/[n]o: y\n",
      "What do you want to do? [a]dd, [d]elete, [s]how s\n",
      "Total Price: 0\n",
      "Are you shopping? [y]es/[n]o: y\n",
      "What do you want to do? [a]dd, [d]elete, [s]how a\n",
      "What are we adding?: mayo\n",
      "What is price of item?: 2.00\n",
      "How many are you adding?: 1\n",
      "Mayo\n",
      "quantity: 1\n",
      "price: 2.0\n",
      "Total Price: 2.0\n",
      "Are you shopping? [y]es/[n]o: y\n",
      "What do you want to do? [a]dd, [d]elete, [s]how a\n",
      "What are we adding?: mustard\n",
      "What is price of item?: 3.00\n",
      "How many are you adding?: 1\n",
      "Mustard\n",
      "quantity: 1\n",
      "price: 2.0\n",
      "Mustard\n",
      "quantity: 1\n",
      "price: 3.0\n",
      "Total Price: 5.0\n",
      "Are you shopping? [y]es/[n]o: y\n",
      "What do you want to do? [a]dd, [d]elete, [s]how s\n",
      "Mustard\n",
      "quantity: 1\n",
      "price: 2.0\n",
      "Mustard\n",
      "quantity: 1\n",
      "price: 3.0\n",
      "Total Price: 5.0\n",
      "Are you shopping? [y]es/[n]o: y\n",
      "What do you want to do? [a]dd, [d]elete, [s]how d\n",
      "what item are you deleting: mustard\n",
      "Mustard\n",
      "quantity: 1\n",
      "price: 2.0\n",
      "Total Price: 2.0\n",
      "Are you shopping? [y]es/[n]o: y\n",
      "What do you want to do? [a]dd, [d]elete, [s]how a\n",
      "What are we adding?: mayo\n",
      "What is price of item?: 2.00\n",
      "How many are you adding?: 2\n",
      "Mayo\n",
      "quantity: 3\n",
      "price: 2.0\n",
      "Total Price: 6.0\n",
      "Are you shopping? [y]es/[n]o: y\n",
      "What do you want to do? [a]dd, [d]elete, [s]how d\n",
      "what item are you deleting: mayo\n",
      "Total Price: 0\n",
      "Are you shopping? [y]es/[n]o: y\n",
      "What do you want to do? [a]dd, [d]elete, [s]how s\n",
      "Total Price: 0\n",
      "Are you shopping? [y]es/[n]o: n\n"
     ]
    }
   ],
   "source": [
    "# Create a class called cart that retains items and has methods to add, remove, and show\n",
    "\n",
    "class Cart():\n",
    "    \n",
    "    def __init__(self):\n",
    "        self.cart = {}\n",
    "    def check_user_shopping(self):\n",
    "        self.user_shopping = input(\"Are you shopping? [y]es/[n]o: \").lower()\n",
    "        return True if self.user_shopping in \"yes\" else False\n",
    "    def get_user_input(self):\n",
    "        return input(\"What do you want to do? [a]dd, [d]elete, [s]how \").lower()\n",
    "    def add_to_cart(self,item,price,quantity):\n",
    "        if self.item not in self.cart:\n",
    "            self.cart[self.item] = {\"price\": self.price, \"quantity\": self.quantity}\n",
    "            return self.cart\n",
    "        else:\n",
    "            self.cart[self.item][\"quantity\"] += self.quantity\n",
    "            return self.cart\n",
    "    def del_from_cart(self,item):\n",
    "        if self.item in self.cart:\n",
    "            del self.cart[self.item]\n",
    "            return self.cart\n",
    "        else:\n",
    "            print(\"item not in cart\")\n",
    "    def display_cart(self):\n",
    "        self.total_price=0\n",
    "        for item, dict_ in self.cart.items():\n",
    "            print(f'{self.item.title()}\\nquantity: {dict_[\"quantity\"]}\\nprice: {dict_[\"price\"]}')\n",
    "            self.total_price += dict_[\"quantity\"] * dict_[\"price\"]\n",
    "        print(f\"Total Price: {self.total_price}\")\n",
    "    def driver(self):\n",
    "        while self.check_user_shopping():\n",
    "            self.user_input = self.get_user_input()\n",
    "            if self.user_input == \"d\":\n",
    "                self.item = input(\"what item are you deleting: \")\n",
    "                self.del_from_cart(self.cart)\n",
    "            elif self.user_input == \"a\":\n",
    "                self.item = input(\"What are we adding?: \")\n",
    "                while True:\n",
    "                    try:\n",
    "                        self.price = float(input(\"What is price of item?: \"))\n",
    "                        break\n",
    "                    except:\n",
    "                        print(\"Please enter price in digits. Ex: 10.99\")\n",
    "                while True:\n",
    "                    self.quantity = input(\"How many are you adding?: \")\n",
    "                    if self.quantity.isdigit():\n",
    "                        self.quantity = int(self.quantity)\n",
    "                        break\n",
    "                    else:\n",
    "                        print(\"Please enter quantity in digits. Ex: 10\")\n",
    "                self.cart = self.add_to_cart(self.item, self.price, self.quantity)\n",
    "            elif self.user_input == \"s\":\n",
    "                pass\n",
    "            elif self.user_input != \"s\":\n",
    "                print(\"please enter valid option\")\n",
    "            self.display_cart()\n",
    "\n",
    "    \n",
    "    \n",
    "    \n",
    "cart1 = Cart()\n",
    "cart1.driver()"
   ]
  },
  {
   "cell_type": "markdown",
   "metadata": {},
   "source": [
    "### Exercise 2 - Write a Python class which has two methods get_String and print_String. get_String accept a string from the user and print_String print the string in upper case"
   ]
  },
  {
   "cell_type": "code",
   "execution_count": 169,
   "metadata": {},
   "outputs": [
    {
     "name": "stdout",
     "output_type": "stream",
     "text": [
      "Would you like to [i]nput, [p]rint, or [q]uit?: q\n"
     ]
    }
   ],
   "source": [
    "\n",
    "'''\n",
    "Ask user if they want to input or print a string\n",
    "if input self.get_string()\n",
    "if print self.print_string()\n",
    "Ask user if they want to input or print a string\n",
    "'''\n",
    "\n",
    "class PythonClass:\n",
    "    \n",
    "    def __init__(self,astring = ''):\n",
    "        self.astring = astring\n",
    "    \n",
    "    def driver(self):\n",
    "        self.decision = ''\n",
    "        while 'q' not in self.decision:\n",
    "            self.decision = input('Would you like to [i]nput, [p]rint, or [q]uit?: ').lower()\n",
    "            if self.decision == 'i':\n",
    "                self.get_string()\n",
    "            elif self.decision == 'p':\n",
    "                self.print_string()\n",
    "        \n",
    "    def get_string(self):\n",
    "        self.astring = input('Please input a string: ')\n",
    "        self.driver()\n",
    "        \n",
    "    def print_string(self):\n",
    "        print(f'here\\'s your string:\\n{self.astring}')\n",
    "        self.driver()\n",
    "\n",
    "user = PythonClass()\n",
    "\n",
    "user.driver()"
   ]
  },
  {
   "cell_type": "code",
   "execution_count": null,
   "metadata": {},
   "outputs": [],
   "source": []
  }
 ],
 "metadata": {
  "kernelspec": {
   "display_name": "Python 3 (ipykernel)",
   "language": "python",
   "name": "python3"
  },
  "language_info": {
   "codemirror_mode": {
    "name": "ipython",
    "version": 3
   },
   "file_extension": ".py",
   "mimetype": "text/x-python",
   "name": "python",
   "nbconvert_exporter": "python",
   "pygments_lexer": "ipython3",
   "version": "3.11.4"
  }
 },
 "nbformat": 4,
 "nbformat_minor": 2
}
